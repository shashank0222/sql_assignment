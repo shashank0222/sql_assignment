{
 "cells": [
  {
   "cell_type": "markdown",
   "id": "144daca4-5dbe-4080-a0c1-2990220d64a4",
   "metadata": {},
   "source": [
    "Q1. What is a database? Differentiate between SQL and NoSQL databases."
   ]
  },
  {
   "cell_type": "markdown",
   "id": "f1634a31-544b-4974-baba-13bce1c6bf90",
   "metadata": {},
   "source": [
    "A database is an organized collection of data that can be accessed electronically. It is a collection of data that is stored and organized in such a way that it can be easily accessed, managed and updated.\n",
    "\n",
    "SQL (Structured Query Language) databases are primarily called Relational Databases (RDBMS); whereas NoSQL databases are primarily called non-relational or distributed databases1. SQL databases define and manipulate data-based structured query language (SQL). SQL is one of the most versatile and widely-used options available which makes it a safe choice, especially for great complex queries. But from another side, it can be restrictive. SQL requires you to use predefined schemas to determine the structure of your data before you work with it. Also, all of your data must follow the same structure. This can require significant up-front preparation which means that a change in the structure would be both difficult and disruptive to your whole system1.\n",
    "\n",
    "A NoSQL database has a dynamic schema for unstructured data. Data is stored in many ways which means it can be document-oriented, column-oriented, graph-based, or organized as a key-value store. This flexibility means that documents can be created without having a defined structure first. Also, each document can have its own unique structure1.\n",
    "\n",
    "The main differences between NoSQL and SQL databases are:\n",
    "\n",
    "Type: SQL databases are primarily called Relational Databases (RDBMS); whereas NoSQL databases are primarily called non-relational or distributed databases.\n",
    "\n",
    "Language: SQL databases define and manipulate data-based structured query language (SQL). A NoSQL database has a dynamic schema for unstructured data.\n",
    "\n",
    "Scalability: In almost all situations SQL databases are vertically scalable. This means that you can increase the load on a single server by increasing things like RAM, CPU, or SSD. But on the other hand, NoSQL databases are horizontally scalable. This means that you handle more traffic by sharding, or adding more servers in your NoSQL database.\n",
    "\n",
    "Structure: SQL databases are table-based on the other hand NoSQL databases are either key-value pairs, document-based, graph databases, or wide-column stores.\n",
    "\n",
    "Property followed: SQL databases follow ACID properties (Atomicity, Consistency, Isolation, and Durability) whereas the NoSQL database follows the Brewers CAP theorem (Consistency, Availability, and Partition tolerance).\n",
    "\n",
    "Support: Great support is available for all SQL databases from their vendors. Also, a lot of independent consultants are there who can help you with SQL databases for very large-scale deployments but for some NoSQL databases you still have to rely on community support and only limited outside experts are available for setting up and deploying your large-scale NoSQL deploy.\n"
   ]
  },
  {
   "cell_type": "markdown",
   "id": "7b4d4595-d61c-4219-bbf8-61181cd6e57c",
   "metadata": {},
   "source": [
    "Q2. What is DDL? Explain why CREATE, DROP, ALTER, and TRUNCATE are used with an example."
   ]
  },
  {
   "cell_type": "markdown",
   "id": "921fea73-b43f-4322-94fb-509e9536c07d",
   "metadata": {},
   "source": [
    "DDL stands for Data Definition Language. It is a subset of SQL and a part of DBMS (Database Management System). DDL commands are used to define the database structure or schema. The commands used in DDL are CREATE, DROP, ALTER, and TRUNCATE.\n",
    "\n",
    "CREATE command is used to create a new table in SQL. The user has to give information like table name, column names, and their datatypes. For example, if you want to create a table named “students” with columns “id”, “name”, “age”, and “gender”, you can use the following command:\n",
    "\n",
    "CREATE TABLE students (\n",
    "  id INT PRIMARY KEY,\n",
    "  name VARCHAR(255),\n",
    "  age INT,\n",
    "  gender VARCHAR(255)\n",
    ");\n",
    "\n",
    "DROP command is used to remove an existing table along with its structure from the Database12. For example, if you want to delete the “students” table, you can use the following command:\n",
    "\n",
    "DROP TABLE students;\n",
    "\n",
    "\n",
    "ALTER command is used to add, delete or change columns in the existing table. For example, if you want to add a new column named “email” to the “students” table, you can use the following command:\n",
    "\n",
    "ALTER TABLE students ADD email VARCHAR(255);\n",
    "\n",
    "\n",
    "TRUNCATE command is used to remove all rows from the table but the structure of the table still exists. For example, if you want to remove all rows from the “students” table, you can use the following command:\n",
    "\n",
    "TRUNCATE TABLE students;"
   ]
  },
  {
   "cell_type": "markdown",
   "id": "55657ab0-93ee-47bf-8cf5-b61546fa209f",
   "metadata": {},
   "source": [
    "Q3. What is DML? Explain INSERT, UPDATE, and DELETE with an example."
   ]
  },
  {
   "cell_type": "markdown",
   "id": "d1187c8b-d622-4ef7-a5e5-36493dbbc398",
   "metadata": {},
   "source": [
    "DML stands for Data Manipulation Language. It is used to manipulate data in the database. The commands used in DML are INSERT, UPDATE, and DELETE.\n",
    "\n",
    "INSERT command is used to insert data into a table. For example, if you want to insert a new record into the “students” table with values “1”, “John”, “20”, and “Male”, you can use the following command:\n",
    "\n",
    "INSERT INTO students (id, name, age, gender) VALUES (1, 'John', 20, 'Male');\n",
    "\n",
    "UPDATE command is used to modify existing data within a table. For example, if you want to update the name of the student with id 1 from “John” to “Jane”, you can use the following command:\n",
    "\n",
    "UPDATE students SET name = 'Jane' WHERE id = 1;\n",
    "\n",
    "DELETE command is used to delete records from a database table. For example, if you want to delete the record of the student with id 1 from the “students” table, you can use the following command:\n",
    "\n",
    "DELETE FROM students WHERE id = 1;"
   ]
  },
  {
   "cell_type": "markdown",
   "id": "c03a6e78-94c3-480a-9014-b79617e0816f",
   "metadata": {},
   "source": [
    "Q4. What is DQL? Explain SELECT with an example."
   ]
  },
  {
   "cell_type": "code",
   "execution_count": null,
   "id": "bd2ef0c0-b590-489a-b8ed-5325dc96a952",
   "metadata": {},
   "outputs": [],
   "source": []
  },
  {
   "cell_type": "markdown",
   "id": "200e81a8-3fe7-4c7f-b7dd-a1c759325326",
   "metadata": {},
   "source": [
    "DQL stands for Data Query Language. It is used to retrieve data from the database. The command used in DQL is SELECT .\n",
    "\n",
    "SELECT command is used to retrieve data from one or more tables in the database . For example, if you want to retrieve all records from the “students” table, you can use the following command:\n",
    "\n",
    "SELECT * FROM students;\n",
    "\n",
    "This will return all columns and rows from the “students” table.\n",
    "\n",
    "You can also select specific columns by specifying their names instead of using the asterisk symbol. For example, if you want to retrieve only the “name” and “age” columns from the “students” table, you can use the following command:\n",
    "\n",
    "SELECT name, age FROM students;\n",
    "\n",
    "This will return only the “name” and “age” columns from the “students” table."
   ]
  },
  {
   "cell_type": "markdown",
   "id": "b4fdfd67-a7a3-4ad6-8989-f52de90b8216",
   "metadata": {},
   "source": [
    "Q5. Explain Primary Key and Foreign Key."
   ]
  },
  {
   "cell_type": "markdown",
   "id": "2614dfd5-406b-4d39-8d5c-63bd623da092",
   "metadata": {},
   "source": [
    "A primary key is a column or group of columns in a table that uniquely identifies each row in the table. It cannot contain null values and must be unique for each row. For example, if you have a “students” table, you can use the “id” column as the primary key.\n",
    "\n",
    "A foreign key is a column or group of columns in a table that refers to the primary key of another table. It is used to link two tables together. For example, if you have a “courses” table and a “students” table, you can use the “course_id” column in the “students” table as a foreign key that refers to the “id” column in the “courses” table.\n",
    "\n",
    "Here’s an example of how to create tables with primary and foreign keys:\n",
    "\n",
    "CREATE TABLE courses (\n",
    "  id INT PRIMARY KEY,\n",
    "  name VARCHAR(255)\n",
    ");\n",
    "\n",
    "CREATE TABLE students (\n",
    "  id INT PRIMARY KEY,\n",
    "  name VARCHAR(255),\n",
    "  course_id INT,\n",
    "  FOREIGN KEY (course_id) REFERENCES courses(id)\n",
    ");\n",
    "\n",
    "In this example, the “courses” table has an “id” column as the primary key. The “students” table has an “id” column as the primary key and a “course_id” column as a foreign key that refers to the “id” column in the “courses” table."
   ]
  },
  {
   "cell_type": "markdown",
   "id": "120db37d-478f-407e-88ab-ccd705198fa4",
   "metadata": {},
   "source": [
    "Q6. Write a python code to connect MySQL to python. Explain the cursor() and execute() method."
   ]
  },
  {
   "cell_type": "markdown",
   "id": "d9e3bedf-aba4-48f7-9a12-0b1a0b300c57",
   "metadata": {},
   "source": [
    "import mysql.connector\n",
    "\n",
    "mydb = mysql.connector.connect(\n",
    "  host=\"localhost\",\n",
    "  user=\"yourusername\",\n",
    "  password=\"yourpassword\",\n",
    "  database=\"mydatabase\"\n",
    ")\n",
    "\n",
    "mycursor = mydb.cursor()\n",
    "\n",
    "mycursor.execute(\"SELECT * FROM customers\")\n",
    "\n",
    "myresult = mycursor.fetchall()\n",
    "\n",
    "for x in myresult:\n",
    "  print(x)\n",
    "\n",
    "The cursor() method creates a cursor object that is capable of executing SQL queries on the database. The execute() method is used for executing SQL queries on the database. It takes an SQL query (as a string) as an argument"
   ]
  },
  {
   "cell_type": "code",
   "execution_count": null,
   "id": "d3c64792-2d26-4547-bdbc-4463f3f79a99",
   "metadata": {},
   "outputs": [],
   "source": []
  },
  {
   "cell_type": "markdown",
   "id": "57a17f5f-5566-4184-8cf6-8046faf04c69",
   "metadata": {},
   "source": [
    "Q7. Give the order of execution of SQL clauses in an SQL query."
   ]
  },
  {
   "cell_type": "markdown",
   "id": "2fdbde1a-7a4f-468c-aaeb-5a14c44fc7f7",
   "metadata": {},
   "source": [
    "The order of execution of SQL clauses in an SQL query is as follows:\n",
    "\n",
    "FROM\n",
    "\n",
    "WHERE\n",
    "\n",
    "GROUP BY\n",
    "\n",
    "HAVING\n",
    "\n",
    "SELECT\n",
    "\n",
    "ORDER BY"
   ]
  },
  {
   "cell_type": "code",
   "execution_count": null,
   "id": "fe185ff4-04d6-453a-8dc8-ad2533c44a19",
   "metadata": {},
   "outputs": [],
   "source": []
  }
 ],
 "metadata": {
  "kernelspec": {
   "display_name": "Python 3 (ipykernel)",
   "language": "python",
   "name": "python3"
  },
  "language_info": {
   "codemirror_mode": {
    "name": "ipython",
    "version": 3
   },
   "file_extension": ".py",
   "mimetype": "text/x-python",
   "name": "python",
   "nbconvert_exporter": "python",
   "pygments_lexer": "ipython3",
   "version": "3.10.8"
  }
 },
 "nbformat": 4,
 "nbformat_minor": 5
}
